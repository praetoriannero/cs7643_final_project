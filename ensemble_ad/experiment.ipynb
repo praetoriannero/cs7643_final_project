{
 "cells": [
  {
   "cell_type": "code",
   "execution_count": 1,
   "id": "6d1e7bef-01e1-4494-84ce-50c317f8294c",
   "metadata": {},
   "outputs": [],
   "source": [
    "import os\n",
    "os.getcwd()\n",
    "os.chdir(\"C:\\\\Users\\\\galli\\\\Documents\\\\GitHub\\\\cs7643_final_project\\\\ensemble_ad\")"
   ]
  },
  {
   "cell_type": "code",
   "execution_count": 32,
   "id": "e34daa93-5e7f-49b8-be7b-08c3cf22dfbf",
   "metadata": {},
   "outputs": [],
   "source": [
    "from ensemble.model.ensemble import classifiers\n",
    "from AnoGAN.model.AnoGAN import AnoGAN\n",
    "from outlier_exposure.cae import *\n",
    "from GOAD import classifier as clf\n",
    "import cae\n",
    "from fastprogress import master_bar, progress_bar\n",
    "import torch\n",
    "from torchvision.datasets import CIFAR10\n",
    "from torchvision.transforms import ToTensor\n",
    "from torchvision.utils import make_grid\n",
    "from torch.utils.data.dataloader import DataLoader\n",
    "from torchmetrics.functional.classification import binary_auroc, binary_accuracy\n",
    "\n",
    "\n",
    "import matplotlib.pyplot as plt\n",
    "import sklearn.metrics as metrics\n",
    "import pandas as pd"
   ]
  },
  {
   "cell_type": "code",
   "execution_count": 177,
   "id": "84528212-799f-45fc-b924-8e23b135e5c5",
   "metadata": {},
   "outputs": [],
   "source": [
    "from torchvision.datasets import CIFAR10\n",
    "\n",
    "label = 3\n",
    "test_dataset = CIFAR10(root='cifar10-data/', train=False, transform=ToTensor())\n",
    "\n",
    "test_dataset.targets = (torch.Tensor(test_dataset.targets) == label).type(torch.float)\n",
    "\n",
    "test_dataset = torch.utils.data.Subset(test_dataset, range(2500))\n",
    "batch_size = 250\n",
    "\n",
    "test_loader = DataLoader(test_dataset, batch_size, num_workers=2)"
   ]
  },
  {
   "cell_type": "code",
   "execution_count": 178,
   "id": "66057a15-fe04-45f6-8698-62534918a7f9",
   "metadata": {},
   "outputs": [],
   "source": [
    "classifier = classifiers()"
   ]
  },
  {
   "cell_type": "code",
   "execution_count": 179,
   "id": "93fce6f3-3217-4e5c-bd74-3d23c0792018",
   "metadata": {},
   "outputs": [
    {
     "data": {
      "text/html": [
       "\n",
       "<style>\n",
       "    /* Turns off some styling */\n",
       "    progress {\n",
       "        /* gets rid of default border in Firefox and Opera. */\n",
       "        border: none;\n",
       "        /* Needs to be in here for Safari polyfill so background images work as expected. */\n",
       "        background-size: auto;\n",
       "    }\n",
       "    progress:not([value]), progress:not([value])::-webkit-progress-bar {\n",
       "        background: repeating-linear-gradient(45deg, #7e7e7e, #7e7e7e 10px, #5c5c5c 10px, #5c5c5c 20px);\n",
       "    }\n",
       "    .progress-bar-interrupted, .progress-bar-interrupted::-webkit-progress-bar {\n",
       "        background: #F44336;\n",
       "    }\n",
       "</style>\n"
      ],
      "text/plain": [
       "<IPython.core.display.HTML object>"
      ]
     },
     "metadata": {},
     "output_type": "display_data"
    },
    {
     "data": {
      "text/html": [
       "\n",
       "    <div>\n",
       "      <progress value='5000' class='' max='5000' style='width:300px; height:20px; vertical-align: middle;'></progress>\n",
       "      100.00% [5000/5000 00:17&lt;00:00]\n",
       "    </div>\n",
       "    "
      ],
      "text/plain": [
       "<IPython.core.display.HTML object>"
      ]
     },
     "metadata": {},
     "output_type": "display_data"
    },
    {
     "data": {
      "text/plain": [
       "tensor(0.8648)"
      ]
     },
     "execution_count": 179,
     "metadata": {},
     "output_type": "execute_result"
    }
   ],
   "source": [
    "import os\n",
    "import torch\n",
    "from fastprogress import master_bar, progress_bar\n",
    "\n",
    "os.getcwd()\n",
    "os.chdir(\"C:\\\\Users\\\\galli\\\\Documents\\\\GitHub\\\\cs7643_final_project\\\\ensemble_ad\")\n",
    "\n",
    "from ensemble.model.ensemble import classifiers\n",
    "classifier = classifiers()\n",
    "\n",
    "simple_preds = torch.load(\"preds.pt\")\n",
    "y = torch.load(\"y.pt\")\n",
    "simple_preds = simple_preds.to(torch.float32)\n",
    "\n",
    "from torchmetrics.functional.classification import binary_auroc, binary_accuracy\n",
    "import torch.nn as nn\n",
    "optim = torch.optim.Adam(classifier.parameters(), lr = .03, betas=(.01, 0.999))\n",
    "loss = torch.nn.BCELoss()\n",
    "aaa = []\n",
    "weights = []\n",
    "bias = []\n",
    "mb = progress_bar(range(5000))\n",
    "for i in mb:\n",
    "    out = classifier.Linear(simple_preds.T)\n",
    "    out = torch.sigmoid(out).T\n",
    "    bce_loss = loss(out, y) + loss(out[y == 1], y[y == 1])  \n",
    "    # print()\n",
    "\n",
    "    \n",
    "    # print(bce_loss)\n",
    "    # print(\"{} AUROC:\".format(i), binary_accuracy(out.T, y))\n",
    "    # mb.comment = binary_auroc(out, y)\n",
    "    aaa.append(binary_auroc(out, y))\n",
    "    weights.append(classifier.classifier.weight)\n",
    "    bias.append(classifier.classifier.bias)\n",
    "    \n",
    "    if binary_auroc(out, y) > .9:\n",
    "        break\n",
    "    bce_loss.backward()\n",
    "    optim.step()\n",
    "    \n",
    "classifier.classifier.weight.data = weights[aaa.index(max(aaa))].view(1,3)\n",
    "classifier.classifier.bias.data = bias[aaa.index(max(aaa))]\n",
    "\n",
    "out = classifier.Linear(simple_preds.T)\n",
    "out = torch.sigmoid(out).T\n",
    "\n",
    "binary_auroc(out, y)"
   ]
  },
  {
   "cell_type": "code",
   "execution_count": 180,
   "id": "16a31063-84ae-4d67-8eb5-c467de855598",
   "metadata": {},
   "outputs": [
    {
     "data": {
      "text/plain": [
       "tensor([[ 6.7372, 14.8481,  2.3545]], grad_fn=<ViewBackward0>)"
      ]
     },
     "execution_count": 180,
     "metadata": {},
     "output_type": "execute_result"
    }
   ],
   "source": [
    "weights[aaa.index(max(aaa))].view(1,3)"
   ]
  },
  {
   "cell_type": "code",
   "execution_count": 181,
   "id": "342fe532-cb50-404c-842e-ec0c02b92e62",
   "metadata": {},
   "outputs": [],
   "source": [
    "anogan = torch.load(\"C:\\\\Users\\\\galli\\\\Documents\\\\GitHub\\\\cs7643_final_project\\\\ensemble_ad\\\\AnoGAN\\\\AnoGAN_model_{}.pt\".format(label))\n",
    "\n",
    "GOAD_preds = torch.load(\"C:\\\\Users\\\\galli\\\\Documents\\\\GitHub\\\\cs7643_final_project\\\\ensemble_ad\\\\GOAD_scores_class_3.pt\")\n",
    "# GOAD = torch.load(\"C:\\\\Users\\\\galli\\\\Documents\\\\GitHub\\\\cs7643_final_project\\\\ensemble_ad\\\\GOAD_trained_model_class_1.pt\")\n",
    "CAE_preds = torch.Tensor(np.loadtxt(\"new_cae_anomaly_scores.txt\"))"
   ]
  },
  {
   "cell_type": "code",
   "execution_count": 182,
   "id": "1bbe7076-3f9f-40fe-9382-e2212b6fd85b",
   "metadata": {},
   "outputs": [],
   "source": [
    "new_CAE = ((CAE_preds - CAE_preds.min()) / (CAE_preds.max() - CAE_preds.min()))"
   ]
  },
  {
   "cell_type": "code",
   "execution_count": 135,
   "id": "22c45e33-d4e6-4ec6-a823-0592f0341aee",
   "metadata": {},
   "outputs": [
    {
     "data": {
      "text/plain": [
       "tensor([[1., 0., 0.,  ..., 0., 0., 0.],\n",
       "        [0., 1., 0.,  ..., 0., 0., 0.],\n",
       "        [0., 0., 0.,  ..., 0., 0., 0.],\n",
       "        ...,\n",
       "        [0., 0., 0.,  ..., 0., 0., 0.],\n",
       "        [0., 0., 0.,  ..., 0., 0., 0.],\n",
       "        [0., 0., 1.,  ..., 0., 1., 0.]])"
      ]
     },
     "execution_count": 135,
     "metadata": {},
     "output_type": "execute_result"
    }
   ],
   "source": [
    "batch_y"
   ]
  },
  {
   "cell_type": "code",
   "execution_count": 37,
   "id": "b4bb2259-5c3d-40bf-b36a-e73ad12302a9",
   "metadata": {},
   "outputs": [
    {
     "name": "stdout",
     "output_type": "stream",
     "text": [
      "Batch 0\n",
      "Batch 1\n",
      "Batch 2\n",
      "Batch 3\n",
      "Batch 4\n",
      "Batch 5\n",
      "Batch 6\n",
      "Batch 7\n",
      "Batch 8\n",
      "Batch 9\n"
     ]
    }
   ],
   "source": [
    "anogan = anogan.cpu()\n",
    "batch_acc = torch.empty(len(test_loader), 1)\n",
    "batch_auroc = torch.empty(len(test_loader), 1)\n",
    "batch_preds = torch.empty(len(test_loader), 1, batch_size)\n",
    "batch_y = torch.empty(len(test_loader), batch_size)\n",
    "for j, (batch, y) in enumerate(test_loader):\n",
    "    print(\"Batch\", j)\n",
    "    pred, auroc, acc, g, d, fake, real = anogan.predict((batch, y))\n",
    "    # for i in range(250):\n",
    "    #     batch_preds[j, 1, i] = CAE.predict(batch[i].cuda())\n",
    "    batch_acc[j, 0] = acc\n",
    "    batch_auroc[j, 0] = auroc\n",
    "    batch_preds[j, 0, :] = pred\n",
    "    batch_y[j, :] = y"
   ]
  },
  {
   "cell_type": "code",
   "execution_count": 254,
   "id": "90ece4c0-5ea6-4b58-a3bc-85eafa0c4faf",
   "metadata": {},
   "outputs": [],
   "source": [
    "batch_acc.mean(dim = 0)\n",
    "batch_auroc.mean(dim = 0)\n",
    "all_preds = batch_preds.view(1, -1)\n",
    "all_y = batch_y.view(1, -1)\n",
    "torch.save(all_y, \"y.pt\")"
   ]
  },
  {
   "cell_type": "code",
   "execution_count": 255,
   "id": "046fa76e-9be7-4bbb-8239-571861099ac4",
   "metadata": {},
   "outputs": [],
   "source": [
    "AnoGAN_acc = float(binary_accuracy(batch_preds[:,0,:], batch_y))\n",
    "AnoGAN_focal = float(binary_accuracy(batch_preds[:,0,:][batch_y == 1], batch_y[batch_y == 1]))\n",
    "AnoGAN_auroc = float(binary_auroc(batch_preds[:,0,:], batch_y))\n",
    "\n",
    "GOAD_acc = float(binary_accuracy(1-GOAD_preds[:2500].view(10,250), batch_y))\n",
    "GOAD_focal = float(binary_accuracy(1-GOAD_preds[:2500].view(10,250)[batch_y == 1], batch_y[batch_y == 1]))\n",
    "GOAD_auroc = float(binary_auroc(1- GOAD_preds[:2500].view(10,250), batch_y))\n",
    "\n",
    "CAE_acc = float(binary_accuracy(1- new_CAE[:2500].view(10,250), batch_y))\n",
    "CAE_focal = float(binary_accuracy(1- new_CAE[:2500].view(10,250)[batch_y == 1], batch_y[batch_y == 1]))\n",
    "CAE_auroc = float(binary_auroc(1- new_CAE[:2500].view(10,250), batch_y))"
   ]
  },
  {
   "cell_type": "code",
   "execution_count": 256,
   "id": "ef80035d-9387-4cfc-aea9-a6d7bc9fec2b",
   "metadata": {},
   "outputs": [],
   "source": [
    "simple_preds = torch.cat((all_preds, 1-GOAD_preds[:2500].view(1,2500), 1- new_CAE[:2500].view(1,2500)))\n",
    "torch.save(simple_preds, \"preds.pt\")"
   ]
  },
  {
   "cell_type": "code",
   "execution_count": 257,
   "id": "4cbd34b3-aa12-40cd-924d-b775d4b39047",
   "metadata": {},
   "outputs": [],
   "source": [
    "avg_acc = float(binary_accuracy(simple_preds.mean(dim = 0), all_y[0, :]))\n",
    "avg_focal = float(binary_accuracy(simple_preds.mean(dim = 0)[all_y.squeeze(0) == 1], all_y.squeeze(0)[all_y.squeeze(0) == 1]))\n",
    "avg_auroc = float(binary_auroc(simple_preds.mean(dim = 0), all_y[0, :]))"
   ]
  },
  {
   "cell_type": "code",
   "execution_count": 258,
   "id": "27a0a706-2fd4-455f-9d89-fecba733d309",
   "metadata": {},
   "outputs": [
    {
     "data": {
      "text/plain": [
       "0.05554908514022827"
      ]
     },
     "execution_count": 258,
     "metadata": {},
     "output_type": "execute_result"
    }
   ],
   "source": [
    "AnoGAN_auroc - voting_auroc"
   ]
  },
  {
   "cell_type": "code",
   "execution_count": 259,
   "id": "3303a898-8dc9-429c-9f26-be33e4b9326d",
   "metadata": {},
   "outputs": [],
   "source": [
    "Voting = classifier.VotingClassifier(simple_preds)\n",
    "voting_acc = float(binary_accuracy(Voting, all_y[0, :]))\n",
    "voting_focal = float(binary_accuracy(Voting[all_y.squeeze(0) == 1], all_y.squeeze(0)[all_y.squeeze(0) == 1]))\n",
    "voting_auroc = float(binary_auroc(Voting, all_y[0, :]))"
   ]
  },
  {
   "cell_type": "code",
   "execution_count": 260,
   "id": "ec4990d2-3539-4cc7-b604-554c5df64f58",
   "metadata": {},
   "outputs": [
    {
     "ename": "AttributeError",
     "evalue": "'float' object has no attribute 'squeeze'",
     "output_type": "error",
     "traceback": [
      "\u001b[1;31m---------------------------------------------------------------------------\u001b[0m",
      "\u001b[1;31mAttributeError\u001b[0m                            Traceback (most recent call last)",
      "Cell \u001b[1;32mIn[260], line 1\u001b[0m\n\u001b[1;32m----> 1\u001b[0m \u001b[38;5;28mfloat\u001b[39m(binary_auroc(\u001b[43mt\u001b[49m\u001b[38;5;241;43m.\u001b[39;49m\u001b[43msqueeze\u001b[49m(\u001b[38;5;241m0\u001b[39m), all_y[\u001b[38;5;241m0\u001b[39m, :]))\n",
      "\u001b[1;31mAttributeError\u001b[0m: 'float' object has no attribute 'squeeze'"
     ]
    }
   ],
   "source": [
    "float(binary_auroc(t.squeeze(0), all_y[0, :]))\n",
    "\n"
   ]
  },
  {
   "cell_type": "code",
   "execution_count": 261,
   "id": "bb9ad491-0ff8-4ed0-b953-96ff53ec9863",
   "metadata": {},
   "outputs": [],
   "source": [
    "owa_acc = float(binary_accuracy(out.squeeze(0), all_y[0, :]))\n",
    "owa_focal = float(binary_accuracy(out.squeeze(0)[all_y.squeeze(0) == 1], all_y.squeeze(0)[all_y.squeeze(0) == 1]))\n",
    "owa_auroc = float(binary_auroc(out.squeeze(0), all_y[0, :]))"
   ]
  },
  {
   "cell_type": "code",
   "execution_count": null,
   "id": "3d22c660-20ac-4452-a181-e91501fb9681",
   "metadata": {},
   "outputs": [],
   "source": []
  },
  {
   "cell_type": "code",
   "execution_count": 272,
   "id": "53761a5b-9a77-4e1e-9e31-720612143b0a",
   "metadata": {},
   "outputs": [],
   "source": [
    "ano_false_pos, ano_true_pos, ano_thresholds = metrics.roc_curve(all_y[0, :].detach().numpy(), all_preds[0, :].detach().numpy(), pos_label = 1)\n",
    "\n",
    "goad_false_pos, goad_true_pos, goad_thresholds = metrics.roc_curve(all_y[0, :].detach().numpy(), (1-GOAD_preds[:2500]).detach().numpy(), pos_label = 1)\n",
    "\n",
    "cae_false_pos, cae_true_pos, cae_thresholds = metrics.roc_curve(all_y[0, :].detach().numpy(), (1-new_CAE[:2500]).detach().numpy(), pos_label = 1)\n",
    "\n",
    "avg_false_pos, avg_true_pos, avg_thresholds = metrics.roc_curve(all_y[0, :].detach().numpy(), simple_preds.mean(dim = 0).detach().numpy(), pos_label = 1)\n",
    "\n",
    "voting_false_pos, voting_true_pos, voting_thresholds = metrics.roc_curve(all_y[0, :].detach().numpy(), Voting.detach().numpy(), pos_label = 1)\n",
    "\n",
    "owa_false_pos, owa_true_pos, owa_thresholds = metrics.roc_curve(all_y[0, :].detach().numpy(), out.squeeze(0).detach().numpy(), pos_label = 1)"
   ]
  },
  {
   "cell_type": "code",
   "execution_count": 273,
   "id": "291125ec-dc4d-4106-9d98-b253613838b5",
   "metadata": {},
   "outputs": [
    {
     "data": {
      "text/plain": [
       "<matplotlib.legend.Legend at 0x1e386b62c10>"
      ]
     },
     "execution_count": 273,
     "metadata": {},
     "output_type": "execute_result"
    },
    {
     "data": {
      "image/png": "[encoded data removed]",
      "text/plain": [
       "<Figure size 640x480 with 1 Axes>"
      ]
     },
     "metadata": {},
     "output_type": "display_data"
    }
   ],
   "source": [
    "fig = plt.figure()\n",
    "\n",
    "plt.plot(ano_false_pos, ano_true_pos, alpha = .5, label='AnoGAN AUC: {:.1f}%'.format(round(AnoGAN_auroc*100,1)), color = \"r\", linestyle = \"--\")\n",
    "plt.plot(goad_false_pos, goad_true_pos, alpha = .5, label='GOAD AUC: {:.1f}%'.format(round(GOAD_auroc*100,1)), color = \"b\", linestyle = \"--\")\n",
    "plt.plot(cae_false_pos, cae_true_pos, alpha = .5, label='CAE AUC: {:.1f}%'.format(round(CAE_auroc*100,1)), color = \"purple\", linestyle = \"--\")\n",
    "plt.plot(avg_false_pos, avg_true_pos, label='Confidence Ensemble AUC: {:.1f}%'.format(round(avg_auroc*100,1)), color = \"black\")\n",
    "plt.plot(voting_false_pos, voting_true_pos, label='Voting Ensemble AUC: {:.1f}%'.format(round(voting_auroc*100,1)), color = \"green\")\n",
    "plt.plot(owa_false_pos, owa_true_pos, label='Optimized Weighted Linear Ensemble AUC: {:.1f}%'.format(round(owa_auroc*100,1)), color = \"orange\")\n",
    "\n",
    "plt.xlabel(\"False Positive Rate\")\n",
    "plt.ylabel(\"True Positive Rate\")\n",
    "plt.title(\"Anomoly Detection Classifiers Performance\")\n",
    "plt.legend()"
   ]
  },
  {
   "cell_type": "code",
   "execution_count": 274,
   "id": "89582533-43b6-4807-a749-df702525b6e2",
   "metadata": {},
   "outputs": [
    {
     "data": {
      "text/plain": [
       "array([[0.89272124, 0.76908457, 0.57185835, 0.81049752, 0.83717215,\n",
       "        0.86475444],\n",
       "       [0.91839999, 0.912     , 0.3188    , 0.92519999, 0.92159998,\n",
       "        0.73799998],\n",
       "       [0.26859504, 0.23140496, 0.8429752 , 0.40909091, 0.33471075,\n",
       "        0.83057851]])"
      ]
     },
     "execution_count": 274,
     "metadata": {},
     "output_type": "execute_result"
    }
   ],
   "source": [
    "df = pd.DataFrame(index = [\"AUROC\", \"Total Accuracy\", \"Focal Accuracy\"])\n",
    "\n",
    "cellVals = [AnoGAN_auroc, AnoGAN_acc, AnoGAN_focal]\n",
    "df[\"AnoGAN\"] = cellVals\n",
    "cellVals = [GOAD_auroc, GOAD_acc, GOAD_focal]\n",
    "df[\"GOAD\"] = cellVals\n",
    "cellVals = [CAE_auroc, CAE_acc, CAE_focal]\n",
    "df[\"CAE\"] = cellVals\n",
    "cellVals = [avg_auroc, avg_acc, avg_focal]\n",
    "df[\"Average Classifier\"] = cellVals\n",
    "cellVals = [voting_auroc, voting_acc, voting_focal]\n",
    "df[\"Voting Classifier\"] = cellVals\n",
    "cellVals = [owa_auroc, owa_acc, owa_focal]\n",
    "df[\"OWL Classifier\"] = cellVals\n",
    "\n",
    "df.values"
   ]
  },
  {
   "cell_type": "code",
   "execution_count": 275,
   "id": "92937db1-a9b5-4bef-8c64-7a020410e9e4",
   "metadata": {},
   "outputs": [
    {
     "data": {
      "image/png": "[encoded data removed]",
      "text/plain": [
       "<Figure size 640x480 with 1 Axes>"
      ]
     },
     "metadata": {},
     "output_type": "display_data"
    }
   ],
   "source": [
    "\n",
    "\n",
    "fig, ax = plt.subplots()\n",
    "\n",
    "# hide axes\n",
    "fig.patch.set_visible(False)\n",
    "ax.axis('off')\n",
    "ax.axis('tight')\n",
    "\n",
    "tbl =ax.table(cellText = df.values.round(3),\n",
    "          rowLabels = [\"AUROC\", \"Total Accuracy\", \"Focal Accuracy\"],\n",
    "          colLabels = [\"AnoGAN\", \"GOAD\", \"CAE\", \"Confidence Classifier\", \"Voting Classifier\", \"OWL Classifier\"],\n",
    "          loc = \"center\")\n",
    "tbl.auto_set_font_size(False)\n",
    "tbl.set_fontsize(8)\n",
    "tbl.auto_set_column_width(5)\n",
    "tbl.auto_set_column_width(4)\n",
    "tbl.auto_set_column_width(3)\n",
    "tbl.auto_set_column_width(2)\n",
    "tbl.auto_set_column_width(1)\n",
    "fig.tight_layout()\n",
    "plt.show()"
   ]
  },
  {
   "cell_type": "code",
   "execution_count": 284,
   "id": "986a6693-f403-469b-990c-57ba1a6421d0",
   "metadata": {},
   "outputs": [
    {
     "data": {
      "text/plain": [
       "tensor([[1, 0, 0,  ..., 0, 0, 0],\n",
       "        [0, 0, 0,  ..., 0, 0, 0],\n",
       "        [0, 1, 1,  ..., 0, 1, 0]])"
      ]
     },
     "execution_count": 284,
     "metadata": {},
     "output_type": "execute_result"
    }
   ],
   "source": [
    "votes = torch.where(simple_preds > 0.5, 1,0)\n",
    "votes\n",
    "\n"
   ]
  },
  {
   "cell_type": "code",
   "execution_count": 300,
   "id": "2d38ca7d-f9ca-4f77-86af-e0dd4a194a31",
   "metadata": {},
   "outputs": [
    {
     "data": {
      "text/plain": [
       "tensor(81)"
      ]
     },
     "execution_count": 300,
     "metadata": {},
     "output_type": "execute_result"
    }
   ],
   "source": [
    "most_common = torch.mode(votes == all_y, dim = 0).values\n",
    "\n",
    "most_common[all_y.squeeze(0) == 1].sum()"
   ]
  },
  {
   "cell_type": "code",
   "execution_count": 304,
   "id": "6ab93025-55a1-4408-8ce8-ea4e66da3af4",
   "metadata": {},
   "outputs": [
    {
     "data": {
      "text/plain": [
       "tensor(0.3347)"
      ]
     },
     "execution_count": 304,
     "metadata": {},
     "output_type": "execute_result"
    }
   ],
   "source": [
    "most_common[all_y.squeeze(0) == 1].sum() / all_y.squeeze(0)[all_y.squeeze(0) == 1].sum()"
   ]
  },
  {
   "cell_type": "code",
   "execution_count": 235,
   "id": "e5955c1d-eebf-4131-b3bd-11705a419595",
   "metadata": {},
   "outputs": [
    {
     "data": {
      "text/plain": [
       "tensor([[0.3333, 0.3333, 0.3333]])"
      ]
     },
     "execution_count": 235,
     "metadata": {},
     "output_type": "execute_result"
    }
   ],
   "source": [
    "classifier.classifier.weight.data.fill_(.3333)"
   ]
  },
  {
   "cell_type": "code",
   "execution_count": 245,
   "id": "08edf955-db56-4aa0-b39f-0431415a560b",
   "metadata": {},
   "outputs": [
    {
     "data": {
      "text/plain": [
       "1825"
      ]
     },
     "execution_count": 245,
     "metadata": {},
     "output_type": "execute_result"
    }
   ],
   "source": [
    "aaa.index(max(aaa))"
   ]
  },
  {
   "cell_type": "code",
   "execution_count": 246,
   "id": "9c4706fb-7409-4f41-8511-f423cfae12c1",
   "metadata": {},
   "outputs": [
    {
     "data": {
      "text/plain": [
       "tensor(0.8945)"
      ]
     },
     "execution_count": 246,
     "metadata": {},
     "output_type": "execute_result"
    }
   ],
   "source": [
    "max(aaa)"
   ]
  },
  {
   "cell_type": "code",
   "execution_count": 196,
   "id": "ea0cd2c7-4bcc-403a-ad5e-8d6afd96fd67",
   "metadata": {},
   "outputs": [
    {
     "data": {
      "text/plain": [
       "Parameter containing:\n",
       "tensor([[ 6.7372, 14.8481,  2.3545]], requires_grad=True)"
      ]
     },
     "execution_count": 196,
     "metadata": {},
     "output_type": "execute_result"
    }
   ],
   "source": [
    "classifier.classifier.weight"
   ]
  },
  {
   "cell_type": "code",
   "execution_count": 250,
   "id": "8f241def-d9f5-4dcd-8335-3fa272a0f26d",
   "metadata": {},
   "outputs": [
    {
     "data": {
      "text/plain": [
       "<matplotlib.legend.Legend at 0x1e38257e8b0>"
      ]
     },
     "execution_count": 250,
     "metadata": {},
     "output_type": "execute_result"
    },
    {
     "data": {
      "image/png": "[encoded data removed]",
      "text/plain": [
       "<Figure size 640x480 with 1 Axes>"
      ]
     },
     "metadata": {},
     "output_type": "display_data"
    }
   ],
   "source": [
    "owl_a = []\n",
    "owl_f = []\n",
    "\n",
    "for i in np.arange(0,1,.01):\n",
    "    owl_a.append(binary_accuracy(out, all_y, threshold = i))\n",
    "    owl_f.append(binary_accuracy(out[all_y == 1], all_y[all_y == 1], threshold = i))\n",
    "# print(binary_auroc(torch.where(out > t,\n",
    "#                                (out - t)/(1 - t)* (1 - .5)+.5,\n",
    "#                                (out - 0)/(t-0)* (.5 - 0)+0), all_y))\n",
    "plt.plot(np.arange(0,1,.01), owl_a, label = \"OWL Accuracy\")\n",
    "plt.plot(np.arange(0,1,.01), owl_f, label = \"OWL Focal\")\n",
    "plt.xlabel(\"Classification Threshold\")\n",
    "plt.ylabel(\"Accuracy Percent\")\n",
    "plt.title(\"OWL Classification Accuracy\")\n",
    "plt.legend()\n"
   ]
  },
  {
   "cell_type": "code",
   "execution_count": 249,
   "id": "d49eff79-5ef5-45d1-b569-6fba31896e53",
   "metadata": {},
   "outputs": [
    {
     "data": {
      "text/plain": [
       "Parameter containing:\n",
       "tensor([-2.9498], requires_grad=True)"
      ]
     },
     "execution_count": 249,
     "metadata": {},
     "output_type": "execute_result"
    }
   ],
   "source": [
    "bias[aaa.index(max(aaa))]"
   ]
  },
  {
   "cell_type": "code",
   "execution_count": 250,
   "id": "21536d3c-9d9c-494c-b563-e41df26d18fe",
   "metadata": {},
   "outputs": [],
   "source": [
    "out = classifier.Linear(simple_preds.T)\n",
    "out = torch.sigmoid(out).T"
   ]
  },
  {
   "cell_type": "code",
   "execution_count": 372,
   "id": "d7a68036-2113-482e-ab9b-d954684684c7",
   "metadata": {},
   "outputs": [
    {
     "ename": "IndexError",
     "evalue": "too many indices for tensor of dimension 2",
     "output_type": "error",
     "traceback": [
      "\u001b[1;31m---------------------------------------------------------------------------\u001b[0m",
      "\u001b[1;31mIndexError\u001b[0m                                Traceback (most recent call last)",
      "Cell \u001b[1;32mIn[372], line 2\u001b[0m\n\u001b[0;32m      1\u001b[0m binary_accuracy(simple_preds[\u001b[38;5;241m0\u001b[39m], all_y[\u001b[38;5;241m0\u001b[39m], threshold \u001b[38;5;241m=\u001b[39m \u001b[38;5;241m.37\u001b[39m)\n\u001b[1;32m----> 2\u001b[0m binary_accuracy(\u001b[43msimple_preds\u001b[49m\u001b[43m[\u001b[49m\u001b[38;5;241;43m0\u001b[39;49m\u001b[43m,\u001b[49m\u001b[43m \u001b[49m\u001b[43mall_y\u001b[49m\u001b[43m \u001b[49m\u001b[38;5;241;43m==\u001b[39;49m\u001b[43m \u001b[49m\u001b[38;5;241;43m1\u001b[39;49m\u001b[43m]\u001b[49m, all_y[all_y \u001b[38;5;241m==\u001b[39m \u001b[38;5;241m1\u001b[39m], threshold \u001b[38;5;241m=\u001b[39m \u001b[38;5;241m.9\u001b[39m)\n",
      "\u001b[1;31mIndexError\u001b[0m: too many indices for tensor of dimension 2"
     ]
    }
   ],
   "source": [
    "binary_accuracy(simple_preds[0], all_y[0], threshold = .37)\n",
    "binary_accuracy(simple_preds[0, all_y == 1], all_y[all_y == 1], threshold = .9)"
   ]
  },
  {
   "cell_type": "code",
   "execution_count": 352,
   "id": "9bcb9bcc-c73b-494a-8f2a-98da09668950",
   "metadata": {},
   "outputs": [
    {
     "data": {
      "text/plain": [
       "tensor(242.)"
      ]
     },
     "execution_count": 352,
     "metadata": {},
     "output_type": "execute_result"
    }
   ],
   "source": [
    "all_y.squeeze(0)[all_y.squeeze(0) == 1].sum()"
   ]
  },
  {
   "cell_type": "code",
   "execution_count": 353,
   "id": "7e4e0345-4a36-4628-b45c-0517bc2a5ff1",
   "metadata": {},
   "outputs": [
    {
     "data": {
      "text/plain": [
       "tensor(0.9174)"
      ]
     },
     "execution_count": 353,
     "metadata": {},
     "output_type": "execute_result"
    }
   ],
   "source": [
    "(torch.where(simple_preds[:, all_y.squeeze(0) == 1] > .5, 1,0) == all_y.squeeze(0)[all_y.squeeze(0) == 1]).max(dim = 0).values.sum() / 242"
   ]
  }
 ],
 "metadata": {
  "kernelspec": {
   "display_name": "Python 3 (ipykernel)",
   "language": "python",
   "name": "python3"
  },
  "language_info": {
   "codemirror_mode": {
    "name": "ipython",
    "version": 3
   },
   "file_extension": ".py",
   "mimetype": "text/x-python",
   "name": "python",
   "nbconvert_exporter": "python",
   "pygments_lexer": "ipython3",
   "version": "3.9.13"
  }
 },
 "nbformat": 4,
 "nbformat_minor": 5
}
