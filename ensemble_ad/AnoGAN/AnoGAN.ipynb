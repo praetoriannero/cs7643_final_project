{
 "cells": [
  {
   "cell_type": "code",
   "execution_count": 1,
   "id": "02a1d478-ca18-4d7a-a2cd-fe099aed5757",
   "metadata": {},
   "outputs": [
    {
     "name": "stdout",
     "output_type": "stream",
     "text": [
      "You are using device: cuda\n"
     ]
    }
   ],
   "source": [
    "import pickle\n",
    "import matplotlib.pyplot as plt\n",
    "import torch\n",
    "import torch.nn as nn\n",
    "from torch.autograd import Variable\n",
    "from torchmetrics.functional.classification import binary_auroc, binary_accuracy\n",
    "import numpy as np\n",
    "from tqdm.notebook import tnrange, tqdm\n",
    "def unpickle(file):\n",
    "    import pickle\n",
    "    with open(file, 'rb') as fo:\n",
    "        dict = pickle.load(fo, encoding='bytes')\n",
    "    return dict\n",
    "## https://www.cs.toronto.edu/~kriz/cifar.html\n",
    "\n",
    "device = torch.device('cuda' if torch.cuda.is_available() else 'cpu')\n",
    "print(\"You are using device: %s\" % device)"
   ]
  },
  {
   "cell_type": "code",
   "execution_count": 2,
   "id": "1f0fdfdf-a314-4666-a8fb-5ce2de36715e",
   "metadata": {},
   "outputs": [],
   "source": [
    "\n",
    "cifar10 = torch.empty(5, 10000, 3, 32, 32)\n",
    "cifar_y = torch.empty(5, 10000)\n",
    "for i in range(5):\n",
    "    batch = unpickle(\"C:\\\\Users\\\\galli\\\\Documents\\\\GitHub\\\\cs7643_final_project\\\\ensemble_ad\\\\cifar10-data\\\\cifar-10-batches-py\\\\data_batch_\"+str(i+1))\n",
    "    image_data = batch[b'data'].reshape(10000,3,32,32)\n",
    "    cifar10[i] = torch.from_numpy(image_data)\n",
    "    cifar_y[i] = torch.tensor(batch[b'labels'])\n",
    "    \n",
    "meta_file = 'C:\\\\Users\\\\galli\\\\Documents\\\\GitHub\\\\cs7643_final_project\\\\ensemble_ad\\\\cifar10-data\\\\cifar-10-batches-py\\\\batches.meta'\n",
    "meta_data = unpickle(meta_file)"
   ]
  },
  {
   "cell_type": "code",
   "execution_count": 3,
   "id": "beefda58-ed66-41c8-b6d6-a7cb9c00b464",
   "metadata": {},
   "outputs": [
    {
     "data": {
      "text/plain": [
       "{b'num_cases_per_batch': 10000,\n",
       " b'label_names': [b'airplane',\n",
       "  b'automobile',\n",
       "  b'bird',\n",
       "  b'cat',\n",
       "  b'deer',\n",
       "  b'dog',\n",
       "  b'frog',\n",
       "  b'horse',\n",
       "  b'ship',\n",
       "  b'truck'],\n",
       " b'num_vis': 3072}"
      ]
     },
     "execution_count": 3,
     "metadata": {},
     "output_type": "execute_result"
    }
   ],
   "source": [
    "meta_data"
   ]
  },
  {
   "cell_type": "code",
   "execution_count": 4,
   "id": "bd470f49-5051-4f33-a18a-a1365c3050f5",
   "metadata": {},
   "outputs": [],
   "source": [
    "def make_datasets(x, y, batch_size = 100, train_test_percent = 0.2):\n",
    "    \"\"\"\n",
    "    Batch size must be multiple of 4\n",
    "    \"\"\"\n",
    "    \n",
    "    reshape_x = x.reshape((-1, \n",
    "                              x.size()[2],\n",
    "                              x.size()[3],\n",
    "                              x.size()[4]))#.squeeze(0)\n",
    "    batch_x = reshape_x.view((-1, batch_size,reshape_x.size()[1],\n",
    "                              reshape_x.size()[2],\n",
    "                              reshape_x.size()[3]))\n",
    "\n",
    "    train_x = batch_x[:-int(batch_x.size()[0]*train_test_percent)]\n",
    "    test_x = batch_x[-int(batch_x.size()[0]*train_test_percent):]\n",
    "    \n",
    "    reshape_y = y.reshape((np.prod(list(y.size()))))\n",
    "    batch_y = reshape_y.view((-1, batch_size))\n",
    "    \n",
    "    train_y = batch_y[:-int(batch_y.size()[0]*train_test_percent)]\n",
    "    test_y = batch_y[-int(batch_y.size()[0]*train_test_percent):]\n",
    "    \n",
    "    return train_x, train_y, test_x, test_y\n",
    "\n",
    "train_x, train_y, test_x, test_y = make_datasets(cifar10, cifar_y, batch_size = 100, train_test_percent = .2)"
   ]
  },
  {
   "cell_type": "code",
   "execution_count": 5,
   "id": "acc8734b-bb68-4f00-a846-06d396e4b3bc",
   "metadata": {},
   "outputs": [
    {
     "name": "stdout",
     "output_type": "stream",
     "text": [
      "Files already downloaded and verified\n"
     ]
    }
   ],
   "source": [
    "from torchvision.datasets import CIFAR10\n",
    "from torchvision.transforms import ToTensor\n",
    "from torchvision.utils import make_grid\n",
    "from torch.utils.data.dataloader import DataLoader\n",
    "from torch.utils.data import random_split\n",
    "dataset = CIFAR10(root='data/', download=True, transform=ToTensor())\n",
    "test_dataset = CIFAR10(root='data/', train=False, transform=ToTensor())"
   ]
  },
  {
   "cell_type": "code",
   "execution_count": 7,
   "id": "971f976f-cb27-47ee-a2a5-1822036fd196",
   "metadata": {},
   "outputs": [
    {
     "data": {
      "text/plain": [
       "Text(0.5, 1.0, \"b'frog'\")"
      ]
     },
     "execution_count": 7,
     "metadata": {},
     "output_type": "execute_result"
    },
    {
     "data": {
      "image/png": "[encoded data removed]",
      "text/plain": [
       "<Figure size 640x480 with 1 Axes>"
      ]
     },
     "metadata": {},
     "output_type": "display_data"
    }
   ],
   "source": [
    "cifar10[0,0]\n",
    "plt.imshow(cifar10[0,0].permute(1,2,0)/255)\n",
    "plt.title(meta_data[b'label_names'][int(cifar_y[0,0])])"
   ]
  },
  {
   "cell_type": "code",
   "execution_count": 8,
   "id": "02b7c001-3004-4855-94be-8e4b958a9d77",
   "metadata": {},
   "outputs": [],
   "source": [
    "class Generator(nn.Module):\n",
    "    def __init__(self, batch_size, z_dim, channel_dim, feature_dim):\n",
    "        \"\"\"\n",
    "        Convolutional Generator\n",
    "        \"\"\"\n",
    "        super(Generator, self).__init__()\n",
    "        # Parameters\n",
    "        self.batch_size = batch_size\n",
    "        self.z_dim = z_dim\n",
    "        self.feature_dim = feature_dim\n",
    "        \n",
    "        # Modules\n",
    "        self.layer_0 = nn.Sequential(nn.ConvTranspose2d(z_dim, 1024, kernel_size = 4, \n",
    "                                                        stride =1, padding = 0, bias = False),\n",
    "                                     nn.BatchNorm2d(1024),\n",
    "                                     nn.ReLU())\n",
    "        \n",
    "        self.layer_1 = nn.Sequential(nn.ConvTranspose2d(in_channels = 1024, \n",
    "                                          out_channels = 512,\n",
    "                                          kernel_size = 4, stride=2, \n",
    "                                          padding=1, bias=False),\n",
    "                                    nn.BatchNorm2d(512),\n",
    "                                    nn.ReLU())\n",
    "        \n",
    "        self.layer_2 = nn.Sequential(nn.ConvTranspose2d(in_channels = 512, \n",
    "                                          out_channels = 256,\n",
    "                                          kernel_size = 4, stride=2, \n",
    "                                          padding=1, bias=False),\n",
    "                                    nn.BatchNorm2d(256),\n",
    "                                    nn.ReLU())\n",
    "        \n",
    "        self.layer_3 = nn.Sequential(nn.ConvTranspose2d(in_channels = 256, \n",
    "                                          out_channels = 128,\n",
    "                                          kernel_size = 4, stride=2, \n",
    "                                          padding=1, bias=False),\n",
    "                                    nn.BatchNorm2d(128),\n",
    "                                    nn.ReLU())\n",
    "        \n",
    "        self.layer_4 = nn.Sequential(nn.ConvTranspose2d(in_channels = 128, \n",
    "                                          out_channels = 64,\n",
    "                                          kernel_size = 4, stride=1, \n",
    "                                          padding=1, bias=False),\n",
    "                                    nn.BatchNorm2d(64),\n",
    "                                    nn.ReLU())\n",
    "        \n",
    "        self.layer_5 = nn.Sequential(nn.ConvTranspose2d(in_channels = 64, \n",
    "                                          out_channels = 3,\n",
    "                                          kernel_size = 2, stride=1, \n",
    "                                          padding=1, bias=False))\n",
    "        \n",
    "        self.tanh = nn.Tanh()\n",
    "        \n",
    "    def forward(self, input):\n",
    "        l0 = self.layer_0(input)\n",
    "        \n",
    "        # l0 = l0.view(self.batch_size, -1, 5, 5)\n",
    "        l1 = self.layer_1(l0)\n",
    "        l2 = self.layer_2(l1)\n",
    "        l3 = self.layer_3(l2)\n",
    "        l4 = self.layer_4(l3)\n",
    "        l5 = self.layer_5(l4)\n",
    "        out = self.tanh(l5)\n",
    "        return out"
   ]
  },
  {
   "cell_type": "code",
   "execution_count": 9,
   "id": "084f0b82-b416-4a3b-88ef-45d6b8829806",
   "metadata": {},
   "outputs": [
    {
     "ename": "NameError",
     "evalue": "name 'batch_size' is not defined",
     "output_type": "error",
     "traceback": [
      "\u001b[1;31m---------------------------------------------------------------------------\u001b[0m",
      "\u001b[1;31mNameError\u001b[0m                                 Traceback (most recent call last)",
      "Cell \u001b[1;32mIn [9], line 2\u001b[0m\n\u001b[0;32m      1\u001b[0m z_dim \u001b[38;5;241m=\u001b[39m \u001b[38;5;241m100\u001b[39m\n\u001b[1;32m----> 2\u001b[0m z \u001b[38;5;241m=\u001b[39m torch\u001b[38;5;241m.\u001b[39mrandn(\u001b[43mbatch_size\u001b[49m, z_dim, \u001b[38;5;241m1\u001b[39m, \u001b[38;5;241m1\u001b[39m)\n",
      "\u001b[1;31mNameError\u001b[0m: name 'batch_size' is not defined"
     ]
    }
   ],
   "source": [
    "z_dim = 100\n",
    "z = torch.randn(batch_size, z_dim, 1, 1)"
   ]
  },
  {
   "cell_type": "code",
   "execution_count": 10,
   "id": "38774343-bb7a-41a0-a662-c5f0220bd446",
   "metadata": {},
   "outputs": [
    {
     "ename": "NameError",
     "evalue": "name 'batch_size' is not defined",
     "output_type": "error",
     "traceback": [
      "\u001b[1;31m---------------------------------------------------------------------------\u001b[0m",
      "\u001b[1;31mNameError\u001b[0m                                 Traceback (most recent call last)",
      "Cell \u001b[1;32mIn [10], line 1\u001b[0m\n\u001b[1;32m----> 1\u001b[0m G \u001b[38;5;241m=\u001b[39m Generator(batch_size \u001b[38;5;241m=\u001b[39m \u001b[43mbatch_size\u001b[49m, z_dim \u001b[38;5;241m=\u001b[39m z_dim, channel_dim \u001b[38;5;241m=\u001b[39m \u001b[38;5;241m3\u001b[39m, feature_dim \u001b[38;5;241m=\u001b[39m \u001b[38;5;241m32\u001b[39m \u001b[38;5;241m*\u001b[39m (\u001b[38;5;241m2\u001b[39m\u001b[38;5;241m*\u001b[39m\u001b[38;5;241m*\u001b[39m\u001b[38;5;241m3\u001b[39m))\n\u001b[0;32m      2\u001b[0m faked \u001b[38;5;241m=\u001b[39m G\u001b[38;5;241m.\u001b[39mforward(z)\n\u001b[0;32m      3\u001b[0m faked\u001b[38;5;241m.\u001b[39msize()\n",
      "\u001b[1;31mNameError\u001b[0m: name 'batch_size' is not defined"
     ]
    }
   ],
   "source": [
    "G = Generator(batch_size = batch_size, z_dim = z_dim, channel_dim = 3, feature_dim = 32 * (2**3))\n",
    "faked = G.forward(z)\n",
    "faked.size()"
   ]
  },
  {
   "cell_type": "code",
   "execution_count": 11,
   "id": "0da248a8-b885-4344-8dd7-096a3e3cd0e1",
   "metadata": {},
   "outputs": [],
   "source": [
    "# faked[4].permute(1,2,0).detach().numpy()"
   ]
  },
  {
   "cell_type": "code",
   "execution_count": 12,
   "id": "959d22a2-afc0-45c5-b3dc-7d5254130e07",
   "metadata": {},
   "outputs": [
    {
     "ename": "NameError",
     "evalue": "name 'faked' is not defined",
     "output_type": "error",
     "traceback": [
      "\u001b[1;31m---------------------------------------------------------------------------\u001b[0m",
      "\u001b[1;31mNameError\u001b[0m                                 Traceback (most recent call last)",
      "Cell \u001b[1;32mIn [12], line 1\u001b[0m\n\u001b[1;32m----> 1\u001b[0m plt\u001b[38;5;241m.\u001b[39mimshow(\u001b[43mfaked\u001b[49m[\u001b[38;5;241m4\u001b[39m]\u001b[38;5;241m.\u001b[39mpermute(\u001b[38;5;241m1\u001b[39m,\u001b[38;5;241m2\u001b[39m,\u001b[38;5;241m0\u001b[39m)\u001b[38;5;241m.\u001b[39mdetach()\u001b[38;5;241m.\u001b[39mnumpy())\n\u001b[0;32m      2\u001b[0m plt\u001b[38;5;241m.\u001b[39mtitle(\u001b[38;5;124m\"\u001b[39m\u001b[38;5;124mGenerated Data\u001b[39m\u001b[38;5;124m\"\u001b[39m)\n\u001b[0;32m      3\u001b[0m plt\u001b[38;5;241m.\u001b[39mshow()\n",
      "\u001b[1;31mNameError\u001b[0m: name 'faked' is not defined"
     ]
    }
   ],
   "source": [
    "plt.imshow(faked[4].permute(1,2,0).detach().numpy())\n",
    "plt.title(\"Generated Data\")\n",
    "plt.show()"
   ]
  },
  {
   "cell_type": "code",
   "execution_count": 13,
   "id": "0b129d0e-3116-48eb-8488-d0e7ca26615b",
   "metadata": {},
   "outputs": [],
   "source": [
    "class Discriminator(nn.Module):\n",
    "    def __init__(self, channels, dim):\n",
    "        super(Discriminator,self).__init__()\n",
    "        #parameters\n",
    "        \n",
    "        #modules\n",
    "        self.layer_0 = nn.Sequential(nn.Conv2d(channels, \n",
    "                                               dim, \n",
    "                                               kernel_size = 2, \n",
    "                                               stride= 1, \n",
    "                                               padding = 1, bias = False),\n",
    "                                     nn.LeakyReLU(.2))  #(b, 3, 32, 32)\n",
    "        \n",
    "        self.layer_1 = nn.Sequential(nn.Conv2d(dim, dim*2, kernel_size = 4, stride= 1, padding = 1, bias = False),\n",
    "                                     nn.BatchNorm2d(dim*2),\n",
    "                                     nn.LeakyReLU(0.2))#64\n",
    "        \n",
    "        self.layer_2 = nn.Sequential(nn.Conv2d(dim*2, dim*2**2, kernel_size = 4, stride= 2, padding = 1, bias = False),\n",
    "                                     nn.BatchNorm2d(dim*2**2),\n",
    "                                     nn.LeakyReLU(0.2))#128\n",
    "        self.layer_3 = nn.Sequential(nn.Conv2d(dim*2**2, dim*2**3, kernel_size = 4, stride= 2, padding = 1, bias = False),\n",
    "                                     nn.BatchNorm2d(dim*2**3),\n",
    "                                     nn.LeakyReLU(0.2))#256\n",
    "        self.layer_4 = nn.Sequential(nn.Conv2d(dim*2**3, dim*2**4, kernel_size = 4, stride= 2, padding = 1, bias = False),\n",
    "                                     nn.BatchNorm2d(dim*2**4),\n",
    "                                     nn.LeakyReLU(0.2))#512\n",
    "        self.layer_5 = nn.Sequential(nn.Conv2d(dim*2**4, dim*2**5, kernel_size = 4, stride= 2, padding = 1, bias = False),\n",
    "                                     nn.BatchNorm2d(dim*2**5),\n",
    "                                     nn.LeakyReLU(0.2))#1024\n",
    "        \n",
    "        self.fully_connected = nn.Sequential(nn.Conv2d(dim*2**5, 1, kernel_size = 4, stride= 1, padding = 1, bias = False),\n",
    "                                            nn.Sigmoid())\n",
    "    def forward(self, input):\n",
    "        l0 = self.layer_0(input)\n",
    "        l1 = self.layer_1(l0)\n",
    "        l2 = self.layer_2(l1)\n",
    "        l3 = self.layer_3(l2)\n",
    "        l4 = self.layer_4(l3)\n",
    "        l5 = self.layer_5(l4)\n",
    "        \n",
    "        out = self.fully_connected(l5)\n",
    "        return out[:,0,0,0]\n",
    "        \n",
    "        "
   ]
  },
  {
   "cell_type": "code",
   "execution_count": 14,
   "id": "79480f3c-4281-4443-b167-35cee60fd1dc",
   "metadata": {},
   "outputs": [
    {
     "ename": "NameError",
     "evalue": "name 'faked' is not defined",
     "output_type": "error",
     "traceback": [
      "\u001b[1;31m---------------------------------------------------------------------------\u001b[0m",
      "\u001b[1;31mNameError\u001b[0m                                 Traceback (most recent call last)",
      "Cell \u001b[1;32mIn [14], line 3\u001b[0m\n\u001b[0;32m      1\u001b[0m D \u001b[38;5;241m=\u001b[39m Discriminator(channels \u001b[38;5;241m=\u001b[39m \u001b[38;5;241m3\u001b[39m, dim \u001b[38;5;241m=\u001b[39m \u001b[38;5;241m32\u001b[39m)\n\u001b[1;32m----> 3\u001b[0m output \u001b[38;5;241m=\u001b[39m D(\u001b[43mfaked\u001b[49m)\n\u001b[0;32m      4\u001b[0m output\u001b[38;5;241m.\u001b[39msize()\n",
      "\u001b[1;31mNameError\u001b[0m: name 'faked' is not defined"
     ]
    }
   ],
   "source": [
    "D = Discriminator(channels = 3, dim = 32)\n",
    "\n",
    "output = D(faked)\n",
    "output.size()"
   ]
  },
  {
   "cell_type": "code",
   "execution_count": 15,
   "id": "001013ca-aaa5-4c28-91dd-dbe2468cc3cf",
   "metadata": {},
   "outputs": [
    {
     "ename": "NameError",
     "evalue": "name 'G' is not defined",
     "output_type": "error",
     "traceback": [
      "\u001b[1;31m---------------------------------------------------------------------------\u001b[0m",
      "\u001b[1;31mNameError\u001b[0m                                 Traceback (most recent call last)",
      "Cell \u001b[1;32mIn [15], line 4\u001b[0m\n\u001b[0;32m      1\u001b[0m lr \u001b[38;5;241m=\u001b[39m \u001b[38;5;241m0.0002\u001b[39m\n\u001b[0;32m      3\u001b[0m MSE \u001b[38;5;241m=\u001b[39m nn\u001b[38;5;241m.\u001b[39mMSELoss()\n\u001b[1;32m----> 4\u001b[0m G_optimizer \u001b[38;5;241m=\u001b[39m torch\u001b[38;5;241m.\u001b[39moptim\u001b[38;5;241m.\u001b[39mAdam(\u001b[43mG\u001b[49m\u001b[38;5;241m.\u001b[39mparameters(), lr \u001b[38;5;241m=\u001b[39m lr)\n\u001b[0;32m      5\u001b[0m D_optimizer \u001b[38;5;241m=\u001b[39m torch\u001b[38;5;241m.\u001b[39moptim\u001b[38;5;241m.\u001b[39mAdam(D\u001b[38;5;241m.\u001b[39mparameters(), lr \u001b[38;5;241m=\u001b[39m lr)\n",
      "\u001b[1;31mNameError\u001b[0m: name 'G' is not defined"
     ]
    }
   ],
   "source": [
    "lr = 0.0002\n",
    "\n",
    "MSE = nn.MSELoss()\n",
    "G_optimizer = torch.optim.Adam(G.parameters(), lr = lr)\n",
    "D_optimizer = torch.optim.Adam(D.parameters(), lr = lr)"
   ]
  },
  {
   "cell_type": "code",
   "execution_count": 16,
   "id": "74e29fef-c72f-4f08-8ca6-894c803437ce",
   "metadata": {},
   "outputs": [],
   "source": [
    "from fastprogress import master_bar, progress_bar"
   ]
  },
  {
   "cell_type": "code",
   "execution_count": 35,
   "id": "b1320819-57b7-4a42-8230-53994fb362bf",
   "metadata": {},
   "outputs": [
    {
     "name": "stdout",
     "output_type": "stream",
     "text": [
      "Files already downloaded and verified\n"
     ]
    }
   ],
   "source": [
    "dataset = CIFAR10(root='data/', download=True, transform=ToTensor())\n",
    "test_dataset = CIFAR10(root='data/', train=False, transform=ToTensor())\n",
    "\n",
    "label = 1\n",
    "dataset.targets = (torch.Tensor(dataset.targets) == 1).type(torch.float)\n",
    "test_dataset.targets = (torch.Tensor(test_dataset.targets) == 1).type(torch.float)\n",
    "\n",
    "dataset = torch.utils.data.Subset(dataset, (dataset.targets == label).nonzero(as_tuple=True)[0])\n",
    "\n",
    "batch_size = 250\n",
    "train_loader = DataLoader(dataset, batch_size, shuffle=True, num_workers=2)\n",
    "test_loader = DataLoader(test_dataset, batch_size, num_workers=2)"
   ]
  },
  {
   "cell_type": "code",
   "execution_count": 18,
   "id": "41cdd28d-7136-4ab6-a606-cc0f7545ed8b",
   "metadata": {},
   "outputs": [],
   "source": [
    "def plot_loss_update(epoch, j, epochs, mb, G_Loss, D_Loss, D_real, D_fake):\n",
    "    \"\"\" dynamically print the loss plot during the training/validation loop.\n",
    "        expects epoch to start from 1.\n",
    "    \"\"\"\n",
    "    x = np.arange(0, (len(G_Loss)/20), 1/20)\n",
    "    if x.size == 0:\n",
    "        x = 0\n",
    "    y = np.array([G_Loss, D_Loss, D_real, D_fake])\n",
    "    graphs = [[x,G_Loss], [x,D_Loss], [x,D_fake], [x,D_real]]\n",
    "    x_margin = 0.2\n",
    "    y_margin = 0.05\n",
    "    x_bounds = [0, epoch+(j/20)+x_margin]\n",
    "    y_bounds = [np.min(y)-y_margin, np.max(y)+y_margin]\n",
    "\n",
    "    mb.update_graph(graphs, x_bounds, y_bounds)"
   ]
  },
  {
   "cell_type": "code",
   "execution_count": 19,
   "id": "f379729a-e13b-49f8-bbd9-56d3a86bf1c4",
   "metadata": {},
   "outputs": [
    {
     "data": {
      "text/plain": [
       "array([0.  , 0.05])"
      ]
     },
     "execution_count": 19,
     "metadata": {},
     "output_type": "execute_result"
    }
   ],
   "source": [
    "np.arange(0, (2/20), 1/20)\n"
   ]
  },
  {
   "cell_type": "code",
   "execution_count": 41,
   "id": "277fb19c-8005-4d56-ba3f-13f22dd9aac2",
   "metadata": {},
   "outputs": [
    {
     "data": {
      "text/html": [
       "\n",
       "<style>\n",
       "    /* Turns off some styling */\n",
       "    progress {\n",
       "        /* gets rid of default border in Firefox and Opera. */\n",
       "        border: none;\n",
       "        /* Needs to be in here for Safari polyfill so background images work as expected. */\n",
       "        background-size: auto;\n",
       "    }\n",
       "    progress:not([value]), progress:not([value])::-webkit-progress-bar {\n",
       "        background: repeating-linear-gradient(45deg, #7e7e7e, #7e7e7e 10px, #5c5c5c 10px, #5c5c5c 20px);\n",
       "    }\n",
       "    .progress-bar-interrupted, .progress-bar-interrupted::-webkit-progress-bar {\n",
       "        background: #F44336;\n",
       "    }\n",
       "</style>\n"
      ],
      "text/plain": [
       "<IPython.core.display.HTML object>"
      ]
     },
     "metadata": {},
     "output_type": "display_data"
    },
    {
     "data": {
      "text/html": [],
      "text/plain": [
       "<IPython.core.display.HTML object>"
      ]
     },
     "metadata": {},
     "output_type": "display_data"
    },
    {
     "name": "stderr",
     "output_type": "stream",
     "text": [
      "Clipping input data to the valid range for imshow with RGB data ([0..1] for floats or [0..255] for integers).\n",
      "Clipping input data to the valid range for imshow with RGB data ([0..1] for floats or [0..255] for integers).\n"
     ]
    },
    {
     "data": {
      "image/png": "[encoded data removed]",
      "text/plain": [
       "<Figure size 640x480 with 1 Axes>"
      ]
     },
     "metadata": {},
     "output_type": "display_data"
    }
   ],
   "source": [
    "z_dim = 100\n",
    "# batch_size = 400\n",
    "\n",
    "\n",
    "train_loader = train_loader\n",
    "test_loader =test_loader\n",
    "\n",
    "\n",
    "G = Generator(batch_size = batch_size, z_dim = z_dim, channel_dim = 3, feature_dim = 32 * (2**3))\n",
    "D = Discriminator(channels = 3, dim = 32)\n",
    "\n",
    "MSE = nn.BCELoss()\n",
    "lr =  0.0002\n",
    "G_optimizer = torch.optim.Adam(G.parameters(), lr = lr, betas=(0.5,0.999))\n",
    "D_optimizer = torch.optim.Adam(D.parameters(), lr = lr, betas=(0.5,0.999))\n",
    "\n",
    "# target = One_Class_CIFAR(train_y, label = 1)\n",
    "epochs = 10\n",
    "\n",
    "AUROC_converg = []\n",
    "\n",
    "g_list = []\n",
    "d_list = []\n",
    "fake_list = []\n",
    "real_list = []\n",
    "\n",
    "mb = master_bar(range(epochs))\n",
    "mb.names = ['G Loss', 'D Loss', \"D Fake\", \"D Real\"]\n",
    "plt.ion()\n",
    "fig = plt.figure()\n",
    "ax  = plt.subplot(111)\n",
    "im = None\n",
    "for epoch in mb:\n",
    "    # Training Loo[\n",
    "    for j,(image,y) in enumerate(progress_bar(train_loader, parent = mb)):\n",
    "        image = Variable(image)\n",
    "\n",
    "        \n",
    "        \n",
    "        #Discriminator\n",
    "        ones = Variable(torch.ones(batch_size))\n",
    "        zeros = Variable(torch.zeros(batch_size))\n",
    "        D_optimizer.zero_grad()\n",
    "        z = Variable(torch.randn(batch_size, z_dim, 1, 1))\n",
    "        G_image = G.forward(z)\n",
    "        D_fake = D.forward(G_image)\n",
    "        D_fake_loss = MSE(D_fake, zeros) #-torch.mean(torch.log(1 - D_fake + 1e-8))#\n",
    "        D_real = D.forward(image[y == 1])\n",
    "        D_real_loss = MSE(D_real, y[y==1]) #-torch.mean(torch.log(D_real + 1e-8))#\n",
    "\n",
    "        D_loss = D_fake_loss + D_real_loss #-torch.mean(torch.log(D_real + 1e-8) + torch.log(1 - D_fake + 1e-8))   #\n",
    "        D_real_loss.backward()\n",
    "        D_fake_loss.backward()\n",
    "        \n",
    "        D_optimizer.step()\n",
    "        \n",
    "        #Generator\n",
    "        G_optimizer.zero_grad()\n",
    "        batch_size = int(image.size()[0])\n",
    "        z = Variable(torch.randn(batch_size, z_dim, 1, 1))\n",
    "        G_Fake = D.forward(G.forward(z))\n",
    "        G_loss = MSE(G_Fake, ones) #-torch.mean(torch.log(G_Fake + 1e-8))\n",
    "        G_loss.backward(retain_graph=True)\n",
    "        G_optimizer.step()\n",
    "        \n",
    "        g_list.append(float(G_loss.data))\n",
    "        d_list.append(float(D_loss.data))\n",
    "        fake_list.append(float(D_fake_loss.data))\n",
    "        real_list.append(float(D_real_loss.data))\n",
    "        \n",
    "        AUROC = binary_auroc(D_real, y[y ==1])\n",
    "        ACC = binary_accuracy(D_real, y[y ==1])\n",
    "\n",
    "        # plot_loss_update(epoch,j, epochs, mb, g_list, d_list, fake_list, real_list)\n",
    "        mb.child.comment = \"{} epoch {}th iteration gen_loss: {} dis_loss: {} AUROC: {} ACC: {}\".format(epoch, j,G_loss.data,D_loss.data, AUROC.data, ACC.data)\n",
    "        if (epoch % 5 == 0) & (j == 0):\n",
    "            plt.imshow(G_image[0].detach().permute(1,2,0))\n",
    "            plt.title(\"Epoch {}\".format(epoch))\n",
    "            plt.savefig(\"Trial{}.png\".format(epoch))\n",
    "    \n",
    "    \n",
    "    # Test Loop\n",
    "    batch_acc = []\n",
    "    batch_auroc = []\n",
    "    for j,(image,y) in enumerate(progress_bar(test_loader, parent = mb)):\n",
    "        image = Variable(image)\n",
    "\n",
    "        \n",
    "        \n",
    "        #Discriminator\n",
    "        ones = Variable(torch.ones(batch_size))\n",
    "        zeros = Variable(torch.zeros(batch_size))\n",
    "        D_optimizer.zero_grad()\n",
    "        z = Variable(torch.randn(batch_size, z_dim, 1, 1))\n",
    "        G_image = G.forward(z)\n",
    "        D_fake = D.forward(G_image)\n",
    "        D_fake_loss = MSE(D_fake, zeros) #-torch.mean(torch.log(1 - D_fake + 1e-8))#\n",
    "        D_real = D.forward(image)\n",
    "        D_real_loss = MSE(D_real, y) #-torch.mean(torch.log(D_real + 1e-8))#\n",
    "\n",
    "        D_loss = D_fake_loss + D_real_loss #-torch.mean(torch.log(D_real + 1e-8) + torch.log(1 - D_fake + 1e-8))   #\n",
    "        # D_real_loss.backward()\n",
    "        # D_fake_loss.backward()\n",
    "        \n",
    "        # D_optimizer.step()\n",
    "        \n",
    "        #Generator\n",
    "        G_optimizer.zero_grad()\n",
    "        batch_size = int(image.size()[0])\n",
    "        z = Variable(torch.randn(batch_size, z_dim, 1, 1))\n",
    "        G_Fake = D.forward(G.forward(z))\n",
    "        G_loss = -torch.mean(torch.log(G_Fake + 1e-8)) #MSE(G_Fake, ones)\n",
    "        # G_loss.backward(retain_graph=True)\n",
    "        # G_optimizer.step()\n",
    "        \n",
    "        g_list.append(float(G_loss.data))\n",
    "        d_list.append(float(D_loss.data))\n",
    "        fake_list.append(float(D_fake_loss.data))\n",
    "        real_list.append(float(D_real_loss.data))\n",
    "        \n",
    "        AUROC = binary_auroc(D_real, y)\n",
    "        ACC = binary_accuracy(D_real[y == 1], y[y==1])\n",
    "        batch_auroc.append(float(AUROC.data))\n",
    "        batch_acc.append(float(ACC.data))\n",
    "        # plot_loss_update(epoch,j, epochs, mb, g_list, d_list, fake_list, real_list)\n",
    "        mb.child.comment = \"{} epoch {}th iteration gen_loss: {} dis_loss: {} AUROC: {} ACC: {}\".format(epoch, j,G_loss.data,D_loss.data, AUROC.data, ACC.data)\n",
    "    \n",
    "    AUROC_converg.append(sum (batch_auroc) / len (batch_auroc))\n",
    "    mb.main_bar.comment = \"{} epoch {} AUROC {} ACC\".format(epoch, sum (batch_auroc) / len (batch_auroc), sum (batch_acc) / len (batch_acc))\n",
    "        # if j % 3 == 0:\n",
    "        #     print(\"{} epoch {}th iteration gen_loss: {} dis_loss: {} D fake: {} D real: {}\".format(epoch, j,G_loss.data,D_loss.data, D_fake_loss.data, D_real_loss.data))\n",
    "        #     plt.imshow(G_image[0].detach().permute(1,2,0))\n",
    "        #     plt.show()\n",
    "            # im.draw()\n",
    "            # fig.canvas.flush_events()\n",
    "        # mb.child.comment = str(binary_auroc(D_real.squeeze(1), y).item())\n",
    "        # batch_AUROC[batch] = binary_auroc(D_real.squeeze(1), y)\n",
    "        \n",
    "    # AUROC_converg.append(batch_AUROC.mean())\n",
    "    # mb.main_bar.comment = str(AUROC_converg[-1])\n",
    "    \n",
    "    # if epoch % 25 == 0:\n",
    "    #     mb.write(\"gen_loss: {} dis_loss: {}\".format(epoch,G_loss.data,D_loss.data))\n",
    "    #     mb.write(\"AUROC: {}\".format(AUROC_converg[-1]))\n",
    "            "
   ]
  },
  {
   "cell_type": "code",
   "execution_count": 44,
   "id": "308763b9-4c51-4073-b173-7da140958ac8",
   "metadata": {},
   "outputs": [
    {
     "data": {
      "text/plain": [
       "[0.46307881847023963,\n",
       " 0.45051551014184954,\n",
       " 0.44867066740989686,\n",
       " 0.44160283729434013,\n",
       " 0.43246695324778556,\n",
       " 0.4312446370720863,\n",
       " 0.44054808393120765,\n",
       " 0.64618571549654,\n",
       " 0.64022426456213,\n",
       " 0.6935473829507828]"
      ]
     },
     "execution_count": 44,
     "metadata": {},
     "output_type": "execute_result"
    }
   ],
   "source": [
    "AUROC_converg"
   ]
  },
  {
   "cell_type": "code",
   "execution_count": 46,
   "id": "ca0bff66-e2d8-49dc-aca0-f0232af82269",
   "metadata": {},
   "outputs": [
    {
     "data": {
      "text/plain": [
       "tensor(0.1080)"
      ]
     },
     "execution_count": 46,
     "metadata": {},
     "output_type": "execute_result"
    }
   ],
   "source": [
    "binary_accuracy(D_real, y)"
   ]
  },
  {
   "cell_type": "code",
   "execution_count": 48,
   "id": "15e4797c-553c-457b-8a81-ab1e083eab61",
   "metadata": {},
   "outputs": [
    {
     "data": {
      "text/plain": [
       "tensor([0., 0., 0., 0., 0., 0., 0., 0., 0., 0., 0., 0., 0., 1., 0., 0., 0., 0.,\n",
       "        0., 0., 0., 0., 0., 0., 0., 0., 0., 0., 0., 0., 0., 0., 0., 0., 0., 0.,\n",
       "        0., 0., 1., 0., 0., 0., 0., 0., 1., 0., 0., 1., 0., 0., 1., 0., 0., 1.,\n",
       "        0., 0., 0., 1., 1., 0., 0., 1., 0., 1., 0., 0., 1., 0., 0., 0., 0., 0.,\n",
       "        0., 0., 1., 0., 0., 0., 0., 0., 1., 0., 0., 0., 0., 0., 0., 0., 0., 0.,\n",
       "        0., 0., 0., 1., 0., 0., 0., 0., 0., 0., 0., 0., 0., 0., 0., 0., 0., 0.,\n",
       "        0., 0., 0., 0., 0., 0., 0., 1., 1., 0., 0., 0., 0., 0., 0., 0., 0., 0.,\n",
       "        0., 0., 0., 0., 0., 0., 1., 0., 0., 0., 0., 0., 0., 0., 0., 0., 0., 0.,\n",
       "        1., 0., 0., 0., 0., 0., 0., 0., 0., 0., 0., 1., 1., 1., 0., 1., 0., 0.,\n",
       "        0., 0., 0., 0., 1., 0., 0., 0., 0., 0., 0., 0., 0., 0., 0., 0., 0., 0.,\n",
       "        0., 0., 0., 0., 0., 1., 0., 0., 0., 0., 0., 1., 0., 0., 0., 0., 0., 0.,\n",
       "        0., 0., 0., 0., 0., 0., 0., 0., 0., 0., 0., 0., 0., 0., 0., 0., 0., 0.,\n",
       "        0., 0., 0., 0., 0., 0., 0., 0., 1., 0., 0., 0., 0., 0., 0., 0., 0., 0.,\n",
       "        0., 0., 0., 0., 0., 0., 0., 0., 0., 0., 0., 0., 0., 0., 1., 0.])"
      ]
     },
     "execution_count": 48,
     "metadata": {},
     "output_type": "execute_result"
    }
   ],
   "source": [
    "y"
   ]
  }
 ],
 "metadata": {
  "kernelspec": {
   "display_name": "Python 3 (ipykernel)",
   "language": "python",
   "name": "python3"
  },
  "language_info": {
   "codemirror_mode": {
    "name": "ipython",
    "version": 3
   },
   "file_extension": ".py",
   "mimetype": "text/x-python",
   "name": "python",
   "nbconvert_exporter": "python",
   "pygments_lexer": "ipython3",
   "version": "3.9.13"
  }
 },
 "nbformat": 4,
 "nbformat_minor": 5
}
