{
 "cells": [
  {
   "cell_type": "code",
   "execution_count": 1,
   "id": "02a1d478-ca18-4d7a-a2cd-fe099aed5757",
   "metadata": {},
   "outputs": [
    {
     "name": "stdout",
     "output_type": "stream",
     "text": [
      "You are using device: cuda\n"
     ]
    }
   ],
   "source": [
    "import pickle\n",
    "import matplotlib.pyplot as plt\n",
    "import torch\n",
    "import torch.nn as nn\n",
    "from torch.autograd import Variable\n",
    "def unpickle(file):\n",
    "    import pickle\n",
    "    with open(file, 'rb') as fo:\n",
    "        dict = pickle.load(fo, encoding='bytes')\n",
    "    return dict\n",
    "## https://www.cs.toronto.edu/~kriz/cifar.html\n",
    "\n",
    "device = torch.device('cuda' if torch.cuda.is_available() else 'cpu')\n",
    "print(\"You are using device: %s\" % device)"
   ]
  },
  {
   "cell_type": "code",
   "execution_count": 2,
   "id": "1f0fdfdf-a314-4666-a8fb-5ce2de36715e",
   "metadata": {},
   "outputs": [],
   "source": [
    "cifar10 = torch.empty(5, 10000,3,32,32)\n",
    "cifar_y = torch.empty(5, 10000)\n",
    "for i in range(5):\n",
    "    batch = unpickle(\"C:\\\\Users\\\\galli\\\\Documents\\\\GitHub\\\\cs7643_final_project\\\\ensemble_ad\\\\cifar10-data\\\\cifar-10-batches-py\\\\data_batch_\"+str(i+1))\n",
    "    image_data = batch[b'data'].reshape(10000,3,32,32)\n",
    "    cifar10[i] = torch.from_numpy(image_data)\n",
    "    cifar_y[i] = torch.tensor(batch[b'labels'])\n",
    "    \n",
    "meta_file = 'C:\\\\Users\\\\galli\\\\Documents\\\\GitHub\\\\cs7643_final_project\\\\ensemble_ad\\\\cifar10-data\\\\cifar-10-batches-py\\\\batches.meta'\n",
    "meta_data = unpickle(meta_file)"
   ]
  },
  {
   "cell_type": "code",
   "execution_count": 3,
   "id": "beefda58-ed66-41c8-b6d6-a7cb9c00b464",
   "metadata": {},
   "outputs": [
    {
     "data": {
      "text/plain": [
       "{b'num_cases_per_batch': 10000,\n",
       " b'label_names': [b'airplane',\n",
       "  b'automobile',\n",
       "  b'bird',\n",
       "  b'cat',\n",
       "  b'deer',\n",
       "  b'dog',\n",
       "  b'frog',\n",
       "  b'horse',\n",
       "  b'ship',\n",
       "  b'truck'],\n",
       " b'num_vis': 3072}"
      ]
     },
     "execution_count": 3,
     "metadata": {},
     "output_type": "execute_result"
    }
   ],
   "source": [
    "meta_data"
   ]
  },
  {
   "cell_type": "code",
   "execution_count": 109,
   "id": "bd470f49-5051-4f33-a18a-a1365c3050f5",
   "metadata": {},
   "outputs": [
    {
     "data": {
      "text/plain": [
       "torch.Size([32, 32, 3])"
      ]
     },
     "execution_count": 109,
     "metadata": {},
     "output_type": "execute_result"
    }
   ],
   "source": [
    "cifar10[0,0].permute(1,2,0).size()"
   ]
  },
  {
   "cell_type": "code",
   "execution_count": 5,
   "id": "971f976f-cb27-47ee-a2a5-1822036fd196",
   "metadata": {},
   "outputs": [
    {
     "data": {
      "text/plain": [
       "Text(0.5, 1.0, \"b'frog'\")"
      ]
     },
     "execution_count": 5,
     "metadata": {},
     "output_type": "execute_result"
    },
    {
     "data": {
      "image/png": "[encoded data removed]",
      "text/plain": [
       "<Figure size 640x480 with 1 Axes>"
      ]
     },
     "metadata": {},
     "output_type": "display_data"
    }
   ],
   "source": [
    "cifar10[0,0]\n",
    "plt.imshow(cifar10[0,0].permute(1,2,0)/255)\n",
    "plt.title(meta_data[b'label_names'][int(cifar_y[0,0])])"
   ]
  },
  {
   "cell_type": "code",
   "execution_count": 92,
   "id": "02b7c001-3004-4855-94be-8e4b958a9d77",
   "metadata": {},
   "outputs": [],
   "source": [
    "class Generator(nn.Module):\n",
    "    def __init__(self, batch_size, z_dim, channel_dim, feature_dim):\n",
    "        \"\"\"\n",
    "        Convolutional Generator\n",
    "        \"\"\"\n",
    "        super(Generator, self).__init__()\n",
    "        # Parameters\n",
    "        self.batch_size = batch_size\n",
    "        self.z_dim = z_dim\n",
    "        self.feature_dim = feature_dim\n",
    "        \n",
    "        # Modules\n",
    "        self.layer_0 = nn.Sequential(nn.Linear(z_dim, 6*6*feature_dim),\n",
    "                                     nn.BatchNorm1d(6*6*feature_dim),\n",
    "                                     nn.LeakyReLU())\n",
    "        \n",
    "        self.layer_1 = nn.Sequential(nn.ConvTranspose2d(in_channels = feature_dim, \n",
    "                                          out_channels = int(feature_dim/2),\n",
    "                                          kernel_size = 5, stride=1, \n",
    "                                          padding=1, bias=False),\n",
    "                                    nn.BatchNorm2d(int(feature_dim / 2)),\n",
    "                                    nn.LeakyReLU())\n",
    "        \n",
    "        self.layer_2 = nn.Sequential(nn.ConvTranspose2d(in_channels = int(feature_dim/2), \n",
    "                                          out_channels = int(feature_dim/2**2),\n",
    "                                          kernel_size = 3, stride=2, \n",
    "                                          padding=1, bias=False),\n",
    "                                    nn.BatchNorm2d(int(feature_dim / 2**2)),\n",
    "                                    nn.LeakyReLU())\n",
    "        \n",
    "        self.layer_3 = nn.Sequential(nn.ConvTranspose2d(in_channels = int(feature_dim/2**2), \n",
    "                                          out_channels = int(feature_dim/2**3),\n",
    "                                          kernel_size = 3, stride=2, \n",
    "                                          padding=1, bias=False),\n",
    "                                    nn.BatchNorm2d(int(feature_dim / 2**3)),\n",
    "                                    nn.LeakyReLU())\n",
    "        \n",
    "        self.layer_4 = nn.Sequential(nn.ConvTranspose2d(in_channels = int(feature_dim/2**3), \n",
    "                                          out_channels = channel_dim,\n",
    "                                          kernel_size = 6, stride=1, \n",
    "                                          padding=1, bias=False))\n",
    "        \n",
    "        self.tanh = nn.Tanh()\n",
    "        \n",
    "    def forward(self, input):\n",
    "        l0 = self.layer_0(input)\n",
    "        l0 = l0.view(self.batch_size, self.feature_dim, 6, 6)\n",
    "        l1 = self.layer_1(l0)\n",
    "        l2 = self.layer_2(l1)\n",
    "        l3 = self.layer_3(l2)\n",
    "        l4 = self.layer_4(l3)\n",
    "        out = self.tanh(l4)\n",
    "        return out"
   ]
  },
  {
   "cell_type": "code",
   "execution_count": 96,
   "id": "084f0b82-b416-4a3b-88ef-45d6b8829806",
   "metadata": {},
   "outputs": [],
   "source": [
    "batch_size =100# cifar10.size()[1]\n",
    "z_dim = 100\n",
    "z = Variable(nn.init.normal_(torch.Tensor(batch_size, z_dim), mean=0, std=0.1))"
   ]
  },
  {
   "cell_type": "code",
   "execution_count": 104,
   "id": "38774343-bb7a-41a0-a662-c5f0220bd446",
   "metadata": {},
   "outputs": [],
   "source": [
    "generator = Generator(batch_size = batch_size, z_dim = z_dim, channel_dim = 3, feature_dim = 32 * (2**3))\n",
    "faked = generator.forward(z)"
   ]
  },
  {
   "cell_type": "code",
   "execution_count": 114,
   "id": "959d22a2-afc0-45c5-b3dc-7d5254130e07",
   "metadata": {},
   "outputs": [
    {
     "name": "stderr",
     "output_type": "stream",
     "text": [
      "Clipping input data to the valid range for imshow with RGB data ([0..1] for floats or [0..255] for integers).\n"
     ]
    },
    {
     "data": {
      "text/plain": [
       "Text(0.5, 1.0, 'Generated Data')"
      ]
     },
     "execution_count": 114,
     "metadata": {},
     "output_type": "execute_result"
    },
    {
     "data": {
      "image/png": "[encoded data removed]",
      "text/plain": [
       "<Figure size 640x480 with 1 Axes>"
      ]
     },
     "metadata": {},
     "output_type": "display_data"
    }
   ],
   "source": [
    "plt.imshow(faked[4].permute(1,2,0).detach().numpy())\n",
    "plt.title(\"Generated Data\")"
   ]
  },
  {
   "cell_type": "code",
   "execution_count": null,
   "id": "0b129d0e-3116-48eb-8488-d0e7ca26615b",
   "metadata": {},
   "outputs": [],
   "source": [
    "class Discriminator(nn.Module):\n",
    "    def __init__(self):\n",
    "        super(Discriminator,self).__init__()\n",
    "        #parameters\n",
    "        \n",
    "        #modules\n",
    "        "
   ]
  }
 ],
 "metadata": {
  "kernelspec": {
   "display_name": "Python 3 (ipykernel)",
   "language": "python",
   "name": "python3"
  },
  "language_info": {
   "codemirror_mode": {
    "name": "ipython",
    "version": 3
   },
   "file_extension": ".py",
   "mimetype": "text/x-python",
   "name": "python",
   "nbconvert_exporter": "python",
   "pygments_lexer": "ipython3",
   "version": "3.9.13"
  }
 },
 "nbformat": 4,
 "nbformat_minor": 5
}
